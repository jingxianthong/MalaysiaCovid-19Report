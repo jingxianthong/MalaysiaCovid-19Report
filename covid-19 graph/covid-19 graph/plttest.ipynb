{
 "cells": [
  {
   "cell_type": "code",
   "execution_count": null,
   "metadata": {},
   "outputs": [],
   "source": [
    "import pandas as pd\n",
    "import plotly.express as px\n",
    "\n",
    "CSV_FILE = 'casesstate.csv'\n",
    "df = pd.read_csv(CSV_FILE)\n",
    "\n",
    "fig = px.line(df, x='date', y='cases_new', color='state', title='Trend of New COVID-19 Cases in Different States')\n",
    "\n",
    "# Set the figure size to (20, 20)\n",
    "fig.update_layout(\n",
    "    xaxis_title='Date',\n",
    "    yaxis_title='New Cases',\n",
    "    width=800,  # 800 pixels width\n",
    "    height=800  # 800 pixels height\n",
    ")\n",
    "\n",
    "fig.show()\n"
   ]
  },
  {
   "cell_type": "code",
   "execution_count": null,
   "metadata": {},
   "outputs": [],
   "source": [
    "import pandas as pd\n",
    "import plotly.express as px\n",
    "\n",
    "CSV_FILE = 'casesstate.csv'\n",
    "df = pd.read_csv(CSV_FILE)\n",
    "\n",
    "fig = px.line(df, x='date', y='cases_new', color='state',\n",
    "              title='Trend of New COVID-19 Cases in Different States')\n",
    "fig.update_layout(xaxis_title='Date', yaxis_title='New Cases')\n",
    "fig.show()\n"
   ]
  },
  {
   "cell_type": "code",
   "execution_count": null,
   "metadata": {},
   "outputs": [],
   "source": [
    "import pandas as pd\n",
    "import plotly.express as px\n",
    "\n",
    "CSV_FILE = 'casesstate.csv'\n",
    "df = pd.read_csv(CSV_FILE)\n",
    "\n",
    "# Assuming the 'date' column is in datetime format\n",
    "df['date'] = pd.to_datetime(df['date'])\n",
    "\n",
    "# Select the desired month (e.g., May)\n",
    "month = int(input('input number 1 to 12'))\n",
    "selected_month = month  # May\n",
    "df_selected_month = df[df['date'].dt.month == selected_month]\n",
    "\n",
    "fig = px.line(df_selected_month, x='date', y='cases_new', color='state',\n",
    "              title=f'Trend of New COVID-19 Cases in Different States - {selected_month}/2023')\n",
    "fig.update_layout(xaxis_title='Date', yaxis_title='New Cases')\n",
    "fig.show()\n"
   ]
  },
  {
   "cell_type": "code",
   "execution_count": null,
   "metadata": {},
   "outputs": [],
   "source": [
    "import pandas as pd\n",
    "import plotly.express as px\n",
    "\n",
    "CSV_FILE = 'casesstate.csv'\n",
    "df = pd.read_csv(CSV_FILE)\n",
    "\n",
    "# Assuming the 'date' column is in datetime format\n",
    "df['date'] = pd.to_datetime(df['date'])\n",
    "\n",
    "# Select the desired month (e.g., May)\n",
    "selected_month = 5  # May\n",
    "df_selected_month = df[df['date'].dt.month == selected_month]\n",
    "\n",
    "fig = px.line(df_selected_month, x='date', y='cases_new', color='state',\n",
    "              title=f'Trend of New COVID-19 Cases in Different States - {selected_month}/2020- {selected_month}/2021- {selected_month}/2022 - {selected_month}/2023')\n",
    "fig.update_layout(xaxis_title='Date', yaxis_title='New Cases')\n",
    "fig.show()\n"
   ]
  },
  {
   "cell_type": "code",
   "execution_count": null,
   "metadata": {},
   "outputs": [],
   "source": []
  },
  {
   "cell_type": "code",
   "execution_count": null,
   "metadata": {},
   "outputs": [],
   "source": [
    "#find month\n",
    "import pandas as pd\n",
    "import plotly.express as px\n",
    "\n",
    "csvFile = 'casesstate.csv'\n",
    "df = pd.read_csv(csvFile)\n",
    "df['date'] = pd.to_datetime(df['date'])\n",
    "month = int(input('input number 1 to 12'))\n",
    "selected_month = month\n",
    "\n",
    "df_selected_month = df[df['date'].dt.month == selected_month]\n",
    "\n",
    "fig = px.line(df_selected_month, x='date', y='cases_new', color='state',\n",
    "              title=f'Trend of New COVID-19 Cases in Different States - {selected_month}/2023')\n",
    "fig.update_layout(xaxis_title='Date', yaxis_title='New Cases')\n",
    "fig.show()\n",
    "\n"
   ]
  },
  {
   "cell_type": "code",
   "execution_count": null,
   "metadata": {},
   "outputs": [],
   "source": [
    "import pandas as pd\n",
    "import plotly.express as px\n",
    "\n",
    "CSV_FILE = 'casesstate.csv'\n",
    "df = pd.read_csv(CSV_FILE)\n",
    "\n",
    "# Assuming the 'date' column is in datetime format\n",
    "df['date'] = pd.to_datetime(df['date'])\n",
    "\n",
    "# Select the desired year (e.g., 2023)\n",
    "selected_year = int(input('input the year'))\n",
    "df_selected_year = df[df['date'].dt.year == selected_year]\n",
    "\n",
    "fig = px.line(df_selected_year, x='date', y='cases_new', color='state',\n",
    "              title=f'Trend of New COVID-19 Cases in Different States - {selected_year}')\n",
    "fig.update_layout(xaxis_title='Date', yaxis_title='New Cases')\n",
    "fig.show()\n"
   ]
  },
  {
   "cell_type": "code",
   "execution_count": null,
   "metadata": {},
   "outputs": [],
   "source": [
    "'https://raw.githubusercontent.com/MoH-Malaysia/covid19-public/main/epidemic/cases_state.csv'\n"
   ]
  },
  {
   "cell_type": "code",
   "execution_count": null,
   "metadata": {},
   "outputs": [],
   "source": []
  },
  {
   "cell_type": "code",
   "execution_count": null,
   "metadata": {},
   "outputs": [],
   "source": []
  }
 ],
 "metadata": {
  "kernelspec": {
   "display_name": "Python 3",
   "language": "python",
   "name": "python3"
  },
  "language_info": {
   "codemirror_mode": {
    "name": "ipython",
    "version": 3
   },
   "file_extension": ".py",
   "mimetype": "text/x-python",
   "name": "python",
   "nbconvert_exporter": "python",
   "pygments_lexer": "ipython3",
   "version": "3.11.4"
  },
  "orig_nbformat": 4
 },
 "nbformat": 4,
 "nbformat_minor": 2
}

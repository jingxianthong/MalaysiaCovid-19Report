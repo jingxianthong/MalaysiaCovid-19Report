{
 "cells": [
  {
   "cell_type": "code",
   "execution_count": null,
   "metadata": {},
   "outputs": [],
   "source": [
    "import pandas as pd\n",
    "df = pd.read_csv('cases_age.csv')\n",
    "df.to_html('cases_age.html')"
   ]
  },
  {
   "cell_type": "code",
   "execution_count": null,
   "metadata": {},
   "outputs": [],
   "source": [
    "import pandas as pd\n",
    "\n",
    "# Step 1: Download CSV file\n",
    "url = \"https://raw.githubusercontent.com/MoH-Malaysia/covid19-public/main/epidemic/deaths_malaysia.csv\"\n",
    "df = pd.read_csv(url)\n",
    "\n",
    "# Step 2: Convert CSV to HTML\n",
    "html_content = df.to_html()\n",
    "\n",
    "# Step 3: Save HTML file\n",
    "with open('output.html', 'w') as file:\n",
    "    file.write(html_content)\n",
    "\n",
    "# Step 4: You can use a scheduling tool like cron (on Unix-based systems) or Task Scheduler (on Windows) to periodically run this script.\n"
   ]
  },
  {
   "cell_type": "code",
   "execution_count": null,
   "metadata": {},
   "outputs": [],
   "source": [
    "import pandas as pd\n",
    "import plotly.express as px\n",
    "\n",
    "# Load data from CSV file\n",
    "CSV_FILE = 'cases_state.csv'\n",
    "df = pd.read_csv(CSV_FILE)\n",
    "\n",
    "# Create a line chart using Plotly Express for all states\n",
    "fig = px.line(\n",
    "    df,\n",
    "    x='date',\n",
    "    y='cases_new',\n",
    "    color='state',\n",
    "    title='Daily New COVID-19 Cases by State',\n",
    "    labels={'cases_new': 'Daily New Cases', 'date': 'Date'},\n",
    "    line_shape='linear'  # You can choose a different line shape if needed\n",
    ")\n",
    "\n",
    "# Show the plot\n",
    "fig.show()\n"
   ]
  }
 ],
 "metadata": {
  "kernelspec": {
   "display_name": "Python 3",
   "language": "python",
   "name": "python3"
  },
  "language_info": {
   "codemirror_mode": {
    "name": "ipython",
    "version": 3
   },
   "file_extension": ".py",
   "mimetype": "text/x-python",
   "name": "python",
   "nbconvert_exporter": "python",
   "pygments_lexer": "ipython3",
   "version": "3.11.6"
  },
  "orig_nbformat": 4
 },
 "nbformat": 4,
 "nbformat_minor": 2
}
